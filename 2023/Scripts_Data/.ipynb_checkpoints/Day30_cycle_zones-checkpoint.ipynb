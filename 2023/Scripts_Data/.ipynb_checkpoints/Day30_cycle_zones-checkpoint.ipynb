{
 "cells": [
  {
   "cell_type": "markdown",
   "id": "467f7fad-da17-44e2-ab19-a2385f09e20e",
   "metadata": {},
   "source": [
    "## Converting JSON files into Geopandas\n",
    "\n",
    "TfL cycling data into geopandas dataframe.\n",
    "\n",
    "### Cycling docks\n",
    "\n",
    "Changing the locations into geopandas dataframe.\n"
   ]
  },
  {
   "cell_type": "code",
   "execution_count": 1,
   "id": "52546fdf-cbaf-44c5-aecc-e5185a3664d5",
   "metadata": {},
   "outputs": [],
   "source": [
    "# import libraries\n",
    "import os\n",
    "import csv\n",
    "import urllib.request\n",
    "import pandas as pd\n",
    "import geopandas as gpd\n",
    "import json\n",
    "from shapely.geometry import LineString\n",
    "\n",
    "# set paths and load data\n",
    "\n",
    "DL_path = \"../Data/Cycles/DL_Data\"\n",
    "points_path = \"../Data/Cycles/Points\"\n",
    "points_fn = \"BikePoints.geojson\"\n",
    "journeys_path = \"../Data/Cycles/Journeys\""
   ]
  },
  {
   "cell_type": "code",
   "execution_count": 2,
   "id": "f0996b06-7ddd-4c10-b2af-1b11e66cd4a6",
   "metadata": {},
   "outputs": [
    {
     "name": "stdout",
     "output_type": "stream",
     "text": [
      "Loading file from local\n"
     ]
    }
   ],
   "source": [
    "# download json file from TfL Unified API if not already in local\n",
    "source_url = \"https://api.tfl.gov.uk/BikePoint\"\n",
    "\n",
    "if os.path.exists(os.path.join(DL_path, \"BikePoint.json\")):\n",
    "    print(\"Loading file from local\")\n",
    "    docks = json.load(open(os.path.join(DL_path, \"BikePoint.json\")))\n",
    "else:\n",
    "    print(f\"Download from {source_url}\") \n",
    "    with urllib.request.urlopen(source_url) as source:\n",
    "        docks = json.load(source)\n",
    "    # save to local\n",
    "    docks_DL_data = json.dumps(docks)\n",
    "    # creates saving directory if does not exist\n",
    "    if not os.path.exists(DL_path):\n",
    "        os.makedirs(DL_path)\n",
    "    # save json file\n",
    "    with open(os.path.join(DL_path, \"BikePoint.json\"), \"w\") as f:\n",
    "        f.write(docks_DL_data)"
   ]
  },
  {
   "cell_type": "code",
   "execution_count": 3,
   "id": "16d38d75-dd68-48a0-9d0e-7a2ac9e3e89f",
   "metadata": {},
   "outputs": [],
   "source": [
    "docks_df = pd.json_normalize(docks)\n",
    "\n",
    "# split location and zone\n",
    "name = ['location', 'zone']\n",
    "docks_df[name] = docks_df['commonName'].str.rsplit(pat = ',', n = 1, expand = True)\n",
    "\n",
    "# clear spaces before and after commas\n",
    "for n in name:\n",
    "    docks_df[n] = docks_df[n].str.replace(r'^( +)|( +)$', r'', regex = True)\n",
    "\n",
    "# fix zone name\n",
    "replaces = {\n",
    "    \"Kings Cross\": \"King's Cross\",\n",
    "    \"Parsons Green\": \"Parson's Green\",\n",
    "    \"St Lukes\": \"St. Luke's\",\n",
    "    \"St Pauls\": \"St. Paul's\",\n",
    "    \"St.John's Wood\": \"St. John's Wood\",\n",
    "}\n",
    "docks_df['zone'] = docks_df.zone.replace(replaces)\n",
    "\n",
    "docks_slice = docks_df[['location', 'zone', 'lat', 'lon']]\n",
    "docks_gdf = gpd.GeoDataFrame(docks_slice, geometry = gpd.points_from_xy(docks_slice.lon, docks_slice.lat), crs = 'EPSG:4326')\n",
    "del(docks_slice)\n",
    "\n",
    "# get centroid for each zone and store in GeoDataFrame\n",
    "summary_df = docks_df.groupby('zone')[['lat', 'lon']].mean().reset_index()\n",
    "zones_gdf = gpd.GeoDataFrame(summary_df, geometry = gpd.points_from_xy(summary_df.lon, summary_df.lat), crs = 'EPSG:4326')\n",
    "del(summary_df)"
   ]
  },
  {
   "cell_type": "code",
   "execution_count": 4,
   "id": "77575044-940b-4a71-9c85-864d0f085b9d",
   "metadata": {},
   "outputs": [
    {
     "name": "stdout",
     "output_type": "stream",
     "text": [
      "<class 'geopandas.geodataframe.GeoDataFrame'>\n",
      "RangeIndex: 117 entries, 0 to 116\n",
      "Data columns (total 4 columns):\n",
      " #   Column    Non-Null Count  Dtype   \n",
      "---  ------    --------------  -----   \n",
      " 0   zone      117 non-null    object  \n",
      " 1   lat       117 non-null    float64 \n",
      " 2   lon       117 non-null    float64 \n",
      " 3   geometry  117 non-null    geometry\n",
      "dtypes: float64(2), geometry(1), object(1)\n",
      "memory usage: 3.8+ KB\n"
     ]
    }
   ],
   "source": [
    "# convert into BNG\n",
    "\n",
    "docks_gdf = docks_gdf.to_crs('EPSG:27700')\n",
    "zones_gdf = zones_gdf.to_crs('EPSG:27700')\n",
    "\n",
    "zones_gdf.info()"
   ]
  },
  {
   "cell_type": "markdown",
   "id": "c298ea98-857e-4246-a06a-63c2c332b7f6",
   "metadata": {},
   "source": [
    "### Journey data\n",
    "\n",
    "taking the journey data, summarizing by origin-destination by zone, and converting into geopandas geodataframe."
   ]
  },
  {
   "cell_type": "code",
   "execution_count": 5,
   "id": "9de0ea93-8a57-4253-866a-8b50838f8685",
   "metadata": {},
   "outputs": [
    {
     "name": "stdout",
     "output_type": "stream",
     "text": [
      "The data has 207,960 rows.\n"
     ]
    }
   ],
   "source": [
    "# download and open csv files\n",
    "# source: https://cycling.data.tfl.gov.uk/usage-stats/374JourneyDataExtract12Jun2023-18Jun2023.csv\n",
    "journeys_source = \"https://cycling.data.tfl.gov.uk/usage-stats/374JourneyDataExtract12Jun2023-18Jun2023.csv\"\n",
    "journeys_DL_fn = \"374JourneyDataExtract12Jun2023-18Jun2023.csv\"\n",
    "\n",
    "# load csv file\n",
    "df = pd.read_csv(os.path.join(DL_path, journeys_DL_fn))\n",
    "\n",
    "print(f\"The data has {df.shape[0]:,} rows.\")"
   ]
  },
  {
   "cell_type": "code",
   "execution_count": 6,
   "id": "f64bedbd-7771-497e-a8cf-6cc2b187eb0f",
   "metadata": {},
   "outputs": [
    {
     "name": "stderr",
     "output_type": "stream",
     "text": [
      "/tmp/ipykernel_19767/4162496233.py:31: UserWarning: The argument 'infer_datetime_format' is deprecated and will be removed in a future version. A strict version of it is now the default, see https://pandas.pydata.org/pdeps/0004-consistent-to-datetime-parsing.html. You can safely remove this argument.\n",
      "  df[d] = pd.to_datetime(df[d], infer_datetime_format = True)\n",
      "/tmp/ipykernel_19767/4162496233.py:31: UserWarning: The argument 'infer_datetime_format' is deprecated and will be removed in a future version. A strict version of it is now the default, see https://pandas.pydata.org/pdeps/0004-consistent-to-datetime-parsing.html. You can safely remove this argument.\n",
      "  df[d] = pd.to_datetime(df[d], infer_datetime_format = True)\n"
     ]
    }
   ],
   "source": [
    "# clean data\n",
    "\n",
    "# make Bike model into categorical data\n",
    "df['Bike model'] = df['Bike model'].astype('category')\n",
    "\n",
    "# split location and area\n",
    "df[['Start location', 'Start area']] = df['Start station'].str.rsplit(pat = ',', n = 1, expand = True)\n",
    "df[['End location', 'End area']] = df['End station'].str.rsplit(pat = ',', n = 1, expand = True)\n",
    "\n",
    "# clear spaces before and after commas\n",
    "names = ['Start location', 'Start area', 'End location', 'End area']\n",
    "for n in names:\n",
    "    df[n] = df[n].str.replace(r'^( +)|( +)$', r'', regex = True)\n",
    "\n",
    "# clean the names of zones\n",
    "areas = ['Start area', 'End area']\n",
    "replaces = {\n",
    "    \"Kings Cross\": \"King's Cross\",\n",
    "    \"Parsons Green\": \"Parson's Green\",\n",
    "    \"St Lukes\": \"St. Luke's\",\n",
    "    \"St Pauls\": \"St. Paul's\",\n",
    "    \"St.John's Wood\": \"St. John's Wood\",\n",
    "}\n",
    "\n",
    "for a in areas:\n",
    "    df[a] = df[a].replace(replaces)\n",
    "\n",
    "# replace dates\n",
    "dates = ['Start date', 'End date']\n",
    "for d in dates:\n",
    "    df[d] = pd.to_datetime(df[d], infer_datetime_format = True)"
   ]
  },
  {
   "cell_type": "code",
   "execution_count": 7,
   "id": "ce635c83-2331-4ad8-ae5b-e85f13edf157",
   "metadata": {},
   "outputs": [
    {
     "name": "stderr",
     "output_type": "stream",
     "text": [
      "/tmp/ipykernel_19767/2502638992.py:14: SettingWithCopyWarning: \n",
      "A value is trying to be set on a copy of a slice from a DataFrame.\n",
      "Try using .loc[row_indexer,col_indexer] = value instead\n",
      "\n",
      "See the caveats in the documentation: https://pandas.pydata.org/pandas-docs/stable/user_guide/indexing.html#returning-a-view-versus-a-copy\n",
      "  diff_df.loc[index, 'geometry'] = LineString([start, end])\n",
      "/tmp/ipykernel_19767/2502638992.py:14: FutureWarning: Setting an item of incompatible dtype is deprecated and will raise in a future error of pandas. Value 'LINESTRING (533698.2895243298 181208.01068878197, 531430.9354247928 183291.48489689926)' has dtype incompatible with float64, please explicitly cast to a compatible dtype first.\n",
      "  diff_df.loc[index, 'geometry'] = LineString([start, end])\n",
      "/tmp/ipykernel_19767/2502638992.py:18: SettingWithCopyWarning: \n",
      "A value is trying to be set on a copy of a slice from a DataFrame.\n",
      "Try using .loc[row_indexer,col_indexer] = value instead\n",
      "\n",
      "See the caveats in the documentation: https://pandas.pydata.org/pandas-docs/stable/user_guide/indexing.html#returning-a-view-versus-a-copy\n",
      "  same_df.loc[index, 'geometry'] = start\n",
      "/tmp/ipykernel_19767/2502638992.py:18: FutureWarning: Setting an item of incompatible dtype is deprecated and will raise in a future error of pandas. Value 'POINT (533698.2895243298 181208.01068878197)' has dtype incompatible with float64, please explicitly cast to a compatible dtype first.\n",
      "  same_df.loc[index, 'geometry'] = start\n"
     ]
    }
   ],
   "source": [
    "# summarize by area\n",
    "byarea_df = df.groupby(['Start area', 'End area'])['Total duration (ms)'].agg(Trips = 'count', Ave_ms = 'mean').reset_index()\n",
    "\n",
    "# separate into points and lines\n",
    "diff_df = byarea_df[byarea_df['Start area'] != byarea_df['End area']]\n",
    "same_df = byarea_df[byarea_df['Start area'] == byarea_df['End area']]\n",
    "\n",
    "zones = ['Start area', 'End area']\n",
    "\n",
    "# get geometry\n",
    "for index, row in diff_df.iterrows():\n",
    "    start = zones_gdf.loc[zones_gdf.zone == row['Start area'], 'geometry'].iloc[0]\n",
    "    end = zones_gdf.loc[zones_gdf.zone == row['End area'], 'geometry'].iloc[0]\n",
    "    diff_df.loc[index, 'geometry'] = LineString([start, end])\n",
    "\n",
    "for index, row in same_df.iterrows():\n",
    "    start = zones_gdf.loc[zones_gdf.zone == row['Start area'], 'geometry'].iloc[0]\n",
    "    same_df.loc[index, 'geometry'] = start\n"
   ]
  },
  {
   "cell_type": "code",
   "execution_count": 8,
   "id": "d84f8368-3d44-4930-8366-daa888b17510",
   "metadata": {},
   "outputs": [
    {
     "name": "stderr",
     "output_type": "stream",
     "text": [
      "/tmp/ipykernel_19767/61792626.py:6: FutureWarning: Setting an item of incompatible dtype is deprecated and will raise in a future error of pandas. Value 'Victoria' has dtype incompatible with float64, please explicitly cast to a compatible dtype first.\n",
      "  df2.loc[index, 'zone1'] = max(row['Start area'], row['End area'])\n",
      "/tmp/ipykernel_19767/61792626.py:7: FutureWarning: Setting an item of incompatible dtype is deprecated and will raise in a future error of pandas. Value 'Pimlico' has dtype incompatible with float64, please explicitly cast to a compatible dtype first.\n",
      "  df2.loc[index, 'zone2'] = min(row['Start area'], row['End area'])\n"
     ]
    }
   ],
   "source": [
    "# merge opposite directions\n",
    "\n",
    "df2 = df.copy().dropna()\n",
    "\n",
    "for index, row in df2.iterrows():\n",
    "    df2.loc[index, 'zone1'] = max(row['Start area'], row['End area'])\n",
    "    df2.loc[index, 'zone2'] = min(row['Start area'], row['End area'])"
   ]
  },
  {
   "cell_type": "code",
   "execution_count": 9,
   "id": "06d2b298-785c-4bcf-b892-286e9e708bca",
   "metadata": {},
   "outputs": [
    {
     "name": "stderr",
     "output_type": "stream",
     "text": [
      "/tmp/ipykernel_19767/1499909470.py:10: SettingWithCopyWarning: \n",
      "A value is trying to be set on a copy of a slice from a DataFrame.\n",
      "Try using .loc[row_indexer,col_indexer] = value instead\n",
      "\n",
      "See the caveats in the documentation: https://pandas.pydata.org/pandas-docs/stable/user_guide/indexing.html#returning-a-view-versus-a-copy\n",
      "  diff_df2.loc[index, 'geometry'] = LineString([start, end])\n",
      "/tmp/ipykernel_19767/1499909470.py:10: FutureWarning: Setting an item of incompatible dtype is deprecated and will raise in a future error of pandas. Value 'LINESTRING (531430.9354247928 183291.48489689926, 533698.2895243298 181208.01068878197)' has dtype incompatible with float64, please explicitly cast to a compatible dtype first.\n",
      "  diff_df2.loc[index, 'geometry'] = LineString([start, end])\n",
      "/tmp/ipykernel_19767/1499909470.py:14: SettingWithCopyWarning: \n",
      "A value is trying to be set on a copy of a slice from a DataFrame.\n",
      "Try using .loc[row_indexer,col_indexer] = value instead\n",
      "\n",
      "See the caveats in the documentation: https://pandas.pydata.org/pandas-docs/stable/user_guide/indexing.html#returning-a-view-versus-a-copy\n",
      "  same_df2.loc[index, 'geometry'] = start\n",
      "/tmp/ipykernel_19767/1499909470.py:14: FutureWarning: Setting an item of incompatible dtype is deprecated and will raise in a future error of pandas. Value 'POINT (533698.2895243298 181208.01068878197)' has dtype incompatible with float64, please explicitly cast to a compatible dtype first.\n",
      "  same_df2.loc[index, 'geometry'] = start\n"
     ]
    }
   ],
   "source": [
    "byarea_df2 = df2.groupby(['zone1', 'zone2'])['Total duration (ms)'].agg(Trips = 'count', Ave_ms = 'mean').reset_index()\n",
    "\n",
    "diff_df2 = byarea_df2[byarea_df2.zone1 != byarea_df2.zone2]\n",
    "same_df2 = byarea_df2[byarea_df2.zone1 == byarea_df2.zone2]\n",
    "\n",
    "# get geometry\n",
    "for index, row in diff_df2.iterrows():\n",
    "    start = zones_gdf.loc[zones_gdf.zone == row['zone1'], 'geometry'].iloc[0]\n",
    "    end = zones_gdf.loc[zones_gdf.zone == row['zone2'], 'geometry'].iloc[0]\n",
    "    diff_df2.loc[index, 'geometry'] = LineString([start, end])\n",
    "\n",
    "for index, row in same_df2.iterrows():\n",
    "    start = zones_gdf.loc[zones_gdf.zone == row['zone1'], 'geometry'].iloc[0]\n",
    "    same_df2.loc[index, 'geometry'] = start\n",
    "\n",
    "# turn into geodataframe\n",
    "diff_gpd2 = gpd.GeoDataFrame(diff_df2, crs = 'EPSG:27700')\n",
    "same_gpd2 = gpd.GeoDataFrame(same_df2, crs = 'EPSG:27700')\n",
    "\n",
    "diff_gpd2.to_file(os.path.join(journeys_path, \"inter_zone.gpkg\"))\n",
    "same_gpd2.to_file(os.path.join(journeys_path, \"intra_zone.gpkg\"))"
   ]
  }
 ],
 "metadata": {
  "kernelspec": {
   "display_name": "Python 3 (ipykernel)",
   "language": "python",
   "name": "python3"
  },
  "language_info": {
   "codemirror_mode": {
    "name": "ipython",
    "version": 3
   },
   "file_extension": ".py",
   "mimetype": "text/x-python",
   "name": "python",
   "nbconvert_exporter": "python",
   "pygments_lexer": "ipython3",
   "version": "3.11.5"
  }
 },
 "nbformat": 4,
 "nbformat_minor": 5
}
